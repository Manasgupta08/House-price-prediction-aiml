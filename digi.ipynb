{
 "cells": [
  {
   "cell_type": "code",
   "execution_count": null,
   "metadata": {},
   "outputs": [],
   "source": [
    "\n",
    "# Step 1: Import Libraries and Load Dataset\n",
    "import pandas as pd \n",
    "import numpy as np\n",
    "import matplotlib.pyplot as plt\n",
    "import seaborn as sns\n",
    "from sklearn.model_selection import train_test_split\n",
    "from sklearn.preprocessing import StandardScaler, LabelEncoder\n",
    "from sklearn.ensemble import RandomForestRegressor\n",
    "from sklearn.ensemble import GradientBoostingRegressor\n",
    "from sklearn.metrics import mean_absolute_error, mean_squared_error, r2_score\n",
    "\n",
    "# Load the dataset\n",
    "\n",
    "data =  pd.read_csv(r\"C:\\Users\\gupta\\Downloads\\archive\\House Price India.csv\")\n",
    "\n",
    "# Display the first few rows of the dataset\n",
    "data.head()"
   ]
  },
  {
   "cell_type": "code",
   "execution_count": null,
   "metadata": {},
   "outputs": [],
   "source": [
    "# Step 2: Exploratory Data Analysis (EDA)\n",
    "# Overview of the dataset\n",
    "data.info()\n",
    "\n",
    "# Statistical summary\n",
    "data.describe()\n",
    "\n",
    "# Check for missing values\n",
    "missing_values = data.isnull().sum()\n",
    "print(\"Missing values:\\n\", missing_values)\n",
    "\n",
    "# Visualize the distribution of the target variable (Price)\n",
    "plt.figure(figsize=(8, 6))\n",
    "sns.histplot(data['Price'], kde=True, bins=30, color='blue')\n",
    "plt.title('Distribution of House Prices')\n",
    "plt.xlabel('Price')\n",
    "plt.ylabel('Frequency')\n",
    "plt.show()\n",
    "\n",
    "# Correlation heatmap\n",
    "plt.figure(figsize=(12, 8))\n",
    "sns.heatmap(data.corr(), annot=True, cmap='coolwarm', fmt='.2f')\n",
    "plt.title('Correlation Matrix')\n",
    "plt.show()\n",
    "\n",
    "# Scatter plot: Living Area vs Price\n",
    "plt.figure(figsize=(8, 6))\n",
    "sns.scatterplot(x=data['living area'], y=data['Price'])\n",
    "plt.title('Living Area vs Price')\n",
    "plt.xlabel('Living Area')\n",
    "plt.ylabel('Price')\n",
    "plt.show()\n"
   ]
  },
  {
   "cell_type": "code",
   "execution_count": null,
   "metadata": {},
   "outputs": [],
   "source": [
    "# Step 3: Data Preprocessing\n",
    "# Handle missing values\n",
    "data.fillna(data.median(), inplace=True)\n",
    "\n",
    "# Encode categorical variables\n",
    "if 'waterfront present' in data.columns:\n",
    "    le = LabelEncoder()\n",
    "    data['waterfront present'] = le.fit_transform(data['waterfront present'])\n",
    "\n",
    "# Feature scaling\n",
    "scaler = StandardScaler()\n",
    "numerical_features = ['living area', 'lot area', 'Distance from the airport', \n",
    "                      'Number of schools nearby', 'Area of the house(excluding basement)', \n",
    "                      'Area of the basement']\n",
    "data[numerical_features] = scaler.fit_transform(data[numerical_features])\n",
    "\n",
    "# Drop unnecessary columns\n",
    "data.drop(['id', 'Date', 'Postal Code', 'Lattitude', 'Longitude'], axis=1, inplace=True)\n",
    "\n",
    "# Create a new feature (e.g., total area)\n",
    "data['total_area'] = data['living area'] + data['Area of the basement']\n",
    "\n",
    "# Verify the dataset after preprocessing\n",
    "data.head()\n"
   ]
  },
  {
   "cell_type": "code",
   "execution_count": 13,
   "metadata": {},
   "outputs": [],
   "source": [
    "# Step 4: Train-Test Split\n",
    "# Define features and target variable\n",
    "X = data.drop('Price', axis=1)\n",
    "y = data['Price']\n",
    "\n",
    "# Split the dataset\n",
    "X_train, X_test, y_train, y_test = train_test_split(X, y, test_size=0.2, random_state=42)"
   ]
  },
  {
   "cell_type": "code",
   "execution_count": null,
   "metadata": {},
   "outputs": [],
   "source": [
    "# Step 5: Model Development\n",
    "# Random Forest Regressor\n",
    "rf_model = RandomForestRegressor(random_state=42)\n",
    "rf_model.fit(X_train, y_train)\n",
    "\n",
    "# Gradient Boosting Regressor\n",
    "gb_model = GradientBoostingRegressor(random_state=42)\n",
    "gb_model.fit(X_train, y_train)\n",
    "\n"
   ]
  },
  {
   "cell_type": "code",
   "execution_count": null,
   "metadata": {},
   "outputs": [],
   "source": [
    "# Evaluate Random Forest step 6\n",
    "rf_preds = rf_model.predict(X_test)\n",
    "print(\"Random Forest Performance:\")\n",
    "print(\"MAE:\", mean_absolute_error(y_test, rf_preds))\n",
    "print(\"MSE:\", mean_squared_error(y_test, rf_preds))\n",
    "print(\"R2 Score:\", r2_score(y_test, rf_preds))\n",
    "\n",
    "# Evaluate Gradient Boosting step 7\n",
    "gb_preds = gb_model.predict(X_test)\n",
    "print(\"\\nGradient Boosting Performance:\")\n",
    "print(\"MAE:\", mean_absolute_error(y_test, gb_preds))\n",
    "print(\"MSE:\", mean_squared_error(y_test, gb_preds))\n",
    "print(\"R2 Score:\", r2_score(y_test, gb_preds))\n"
   ]
  },
  {
   "cell_type": "code",
   "execution_count": null,
   "metadata": {},
   "outputs": [],
   "source": [
    "# Step 8: Feature Importance\n",
    "# Feature Importance for Random Forest\n",
    "plt.figure(figsize=(10, 6))\n",
    "importance = rf_model.feature_importances_\n",
    "sns.barplot(x=importance, y=X.columns)\n",
    "plt.title('Feature Importance (Random Forest)')\n",
    "plt.show()"
   ]
  },
  {
   "cell_type": "code",
   "execution_count": null,
   "metadata": {},
   "outputs": [],
   "source": []
  },
  {
   "cell_type": "code",
   "execution_count": null,
   "metadata": {},
   "outputs": [],
   "source": [
    "# Model Evaluation Code: step 9\n",
    "# Evaluate Random Forest\n",
    "rf_preds = rf_model.predict(X_test)\n",
    "print(\"Random Forest Performance:\")\n",
    "print(\"MAE:\", mean_absolute_error(y_test, rf_preds))\n",
    "print(\"MSE:\", mean_squared_error(y_test, rf_preds))\n",
    "print(\"RMSE:\", np.sqrt(mean_squared_error(y_test, rf_preds)))\n",
    "print(\"R2 Score:\", r2_score(y_test, rf_preds))\n",
    "\n",
    "# Evaluate Gradient Boosting\n",
    "gb_preds = gb_model.predict(X_test)\n",
    "print(\"\\nGradient Boosting Performance:\")\n",
    "print(\"MAE:\", mean_absolute_error(y_test, gb_preds))\n",
    "print(\"MSE:\", mean_squared_error(y_test, gb_preds))\n",
    "print(\"RMSE:\", np.sqrt(mean_squared_error(y_test, gb_preds)))\n",
    "print(\"R2 Score:\", r2_score(y_test, gb_preds))"
   ]
  },
  {
   "cell_type": "code",
   "execution_count": null,
   "metadata": {},
   "outputs": [],
   "source": [
    "import joblib    #step 10\n",
    "\n",
    "# Save the best model (Random Forest in this case)\n",
    "best_model = rf_model  # Replace with gb_model if it's better\n",
    "joblib.dump(best_model, 'best_model.pkl')\n",
    "print(\"Model saved as 'best_model.pkl'.\")\n"
   ]
  }
 ],
 "metadata": {
  "kernelspec": {
   "display_name": "base",
   "language": "python",
   "name": "python3"
  },
  "language_info": {
   "codemirror_mode": {
    "name": "ipython",
    "version": 3
   },
   "file_extension": ".py",
   "mimetype": "text/x-python",
   "name": "python",
   "nbconvert_exporter": "python",
   "pygments_lexer": "ipython3",
   "version": "3.10.9"
  }
 },
 "nbformat": 4,
 "nbformat_minor": 2
}
